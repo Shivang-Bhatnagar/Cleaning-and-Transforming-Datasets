{
 "cells": [
  {
   "cell_type": "markdown",
   "metadata": {},
   "source": [
    "# Import Librabries\n",
    "First, Import Libraries such as Numpy and Pandas for Data cleaning and Manipulation."
   ]
  },
  {
   "cell_type": "code",
   "execution_count": 1,
   "metadata": {},
   "outputs": [],
   "source": [
    "import numpy as np\n",
    "import pandas as pd"
   ]
  },
  {
   "cell_type": "markdown",
   "metadata": {},
   "source": [
    "# Load Dataset\n",
    "For this Project, We are using a small dataset which consists information on people applying for jobs.Load the dataset using the pandas method pd.read_csv. "
   ]
  },
  {
   "cell_type": "code",
   "execution_count": 2,
   "metadata": {},
   "outputs": [
    {
     "name": "stdout",
     "output_type": "stream",
     "text": [
      "   Index   Age     Salary  Rating       Location  Established Easy Apply\n",
      "0      0  44.0  $44k-$99k     5.4       India,In         1999       TRUE\n",
      "1      1  66.0  $55k-$66k     3.5    New York,Ny         2002       TRUE\n",
      "2      2   NaN  $77k-$89k    -1.0    New York,Ny           -1         -1\n",
      "3      3  64.0  $44k-$99k     4.4       India In         1988         -1\n",
      "4      4  25.0  $44k-$99k     6.4  Australia Aus         2002         -1\n"
     ]
    }
   ],
   "source": [
    "Dataset = pd.read_csv('OneDrive\\Desktop\\Week 3 - Data Cleaning (Pandas) - 1\\Data-cleaning-for-beginners-using-pandas.csv')\n",
    "print(Dataset.head())"
   ]
  },
  {
   "cell_type": "markdown",
   "metadata": {},
   "source": [
    "# Handling Missing Values\n",
    "Now, After Loading the Dataset we have to check for the missing values and deal with them. Generally, If the dataset is large we remove the missing or Null values from the dataset but In this case the dataset is quite small so instead of removing them we have to deal with them in another way."
   ]
  },
  {
   "cell_type": "code",
   "execution_count": 3,
   "metadata": {},
   "outputs": [
    {
     "name": "stdout",
     "output_type": "stream",
     "text": [
      "<class 'pandas.core.frame.DataFrame'>\n",
      "RangeIndex: 29 entries, 0 to 28\n",
      "Data columns (total 7 columns):\n",
      " #   Column       Non-Null Count  Dtype  \n",
      "---  ------       --------------  -----  \n",
      " 0   Index        29 non-null     int64  \n",
      " 1   Age          22 non-null     float64\n",
      " 2   Salary       29 non-null     object \n",
      " 3   Rating       28 non-null     float64\n",
      " 4   Location     29 non-null     object \n",
      " 5   Established  29 non-null     int64  \n",
      " 6   Easy Apply   29 non-null     object \n",
      "dtypes: float64(2), int64(2), object(3)\n",
      "memory usage: 1.7+ KB\n"
     ]
    }
   ],
   "source": [
    "Dataset.info()"
   ]
  },
  {
   "cell_type": "code",
   "execution_count": 4,
   "metadata": {},
   "outputs": [
    {
     "data": {
      "text/plain": [
       "Index          0\n",
       "Age            7\n",
       "Salary         0\n",
       "Rating         1\n",
       "Location       0\n",
       "Established    0\n",
       "Easy Apply     0\n",
       "dtype: int64"
      ]
     },
     "execution_count": 4,
     "metadata": {},
     "output_type": "execute_result"
    }
   ],
   "source": [
    "Dataset.isnull().sum()"
   ]
  },
  {
   "cell_type": "markdown",
   "metadata": {},
   "source": [
    "\n",
    "As there are 7 missing values in age column, we can impute the missing values with the help of mean or median.First,We have to convert the age column into numeric format then we can calculate the median of the age column."
   ]
  },
  {
   "cell_type": "code",
   "execution_count": 5,
   "metadata": {},
   "outputs": [],
   "source": [
    "Dataset['Age'] = pd.to_numeric(Dataset['Age'],errors='coerce')\n",
    "median_age = Dataset['Age'].median()\n",
    "Dataset['Age'].fillna(median_age,inplace=True)\n",
    "\n"
   ]
  },
  {
   "cell_type": "code",
   "execution_count": 6,
   "metadata": {
    "scrolled": true
   },
   "outputs": [
    {
     "name": "stdout",
     "output_type": "stream",
     "text": [
      "    Index   Age      Salary  Rating       Location  Established Easy Apply\n",
      "0       0  44.0   $44k-$99k     5.4       India,In         1999       TRUE\n",
      "1       1  66.0   $55k-$66k     3.5    New York,Ny         2002       TRUE\n",
      "2       2  39.5   $77k-$89k    -1.0    New York,Ny           -1         -1\n",
      "3       3  64.0   $44k-$99k     4.4       India In         1988         -1\n",
      "4       4  25.0   $44k-$99k     6.4  Australia Aus         2002         -1\n",
      "5       5  44.0   $77k-$89k     1.4       India,In         1999       TRUE\n",
      "6       6  21.0   $44k-$99k     0.0    New York,Ny           -1         -1\n",
      "7       7  44.0   $44k-$99k    -1.0  Australia Aus           -1         -1\n",
      "8       8  35.0   $44k-$99k     5.4    New York,Ny           -1         -1\n",
      "9       9  22.0   $44k-$99k     7.7       India,In           -1       TRUE\n",
      "10     10  55.0   $10k-$49k     5.4       India,In         2008       TRUE\n",
      "11     11  44.0   $10k-$49k     6.7       India,In         2009         -1\n",
      "12     12  39.5   $44k-$99k     0.0       India,In         1999         -1\n",
      "13     13  25.0   $44k-$99k    -1.0  Australia Aus         2019       TRUE\n",
      "14     14  66.0   $44k-$99k     4.0  Australia Aus         2020       TRUE\n",
      "15     15  44.0  $88k-$101k     3.0  Australia Aus         1999         -1\n",
      "16     16  19.0   $19k-$40k     4.5       India,In         1984         -1\n",
      "17     17  39.5   $44k-$99k     5.3    New York,Ny         1943       TRUE\n",
      "18     18  35.0   $44k-$99k     6.7    New York,Ny         1954       TRUE\n",
      "19     19  32.0   $44k-$99k     3.3    New York,Ny         1955       TRUE\n",
      "20     20  39.5   $44k-$99k     5.7    New York,Ny         1944       TRUE\n",
      "21     21  35.0   $44k-$99k     5.0    New York,Ny         1946         -1\n",
      "22     22  19.0   $55k-$66k     7.8    New York,Ny         1988       TRUE\n",
      "23     23  39.5   $44k-$99k     2.4    New York,Ny         1999       TRUE\n",
      "24     24  13.0   $44k-$99k    -1.0    New York,Ny         1987         -1\n",
      "25     25  55.0   $44k-$99k     0.0  Australia Aus         1980       TRUE\n",
      "26     26  39.5   $55k-$66k     NaN       India,In         1934       TRUE\n",
      "27     27  52.0   $44k-$99k     5.4       India,In         1935         -1\n",
      "28     28  39.5   $39k-$88k     3.4  Australia Aus         1932         -1\n"
     ]
    }
   ],
   "source": [
    "print(Dataset)"
   ]
  },
  {
   "cell_type": "markdown",
   "metadata": {},
   "source": [
    "# Data Cleaning / Transformation\n",
    "Now, As you can see that the Salary column have a very inconsistent format so we have to perform some standardization and formatting.The current format appears to include dollar signs ('$'), 'k' for thousands, and a range specified as \"low-high\". We can change the range representation of salary into average of that range so that we can perform a consistent analysis."
   ]
  },
  {
   "cell_type": "code",
   "execution_count": 7,
   "metadata": {},
   "outputs": [],
   "source": [
    "Dataset['Salary'] = Dataset['Salary'].replace({'\\$': '', 'k': '000', '-': '-'},regex=True)\n",
    "def calculate_average_salary(Salary):\n",
    "    if isinstance(Salary, str) and '-' in Salary:\n",
    "        lower, upper = map(float, Salary.split('-'))\n",
    "        return (lower + upper) / 2\n",
    "    return Salary\n",
    "Dataset['Salary'] = Dataset['Salary'].apply(calculate_average_salary)"
   ]
  },
  {
   "cell_type": "code",
   "execution_count": 15,
   "metadata": {},
   "outputs": [
    {
     "name": "stdout",
     "output_type": "stream",
     "text": [
      "    Index   Age   Salary  Rating   Location    Established Easy Apply\n",
      "0       0  44.0  71500.0     5.4      India           1999       TRUE\n",
      "1       1  66.0  60500.0     3.5   New York           2002       TRUE\n",
      "2       2  39.5  83000.0     4.2   New York  Not available      False\n",
      "3       3  64.0  71500.0     4.4      India           1988      False\n",
      "4       4  25.0  71500.0     6.4  Australia           2002      False\n",
      "5       5  44.0  83000.0     1.4      India           1999       TRUE\n",
      "6       6  21.0  71500.0     0.0   New York  Not available      False\n",
      "7       7  44.0  71500.0     4.2  Australia  Not available      False\n",
      "8       8  35.0  71500.0     5.4   New York  Not available      False\n",
      "9       9  22.0  71500.0     7.7      India  Not available       TRUE\n",
      "10     10  55.0  29500.0     5.4      India           2008       TRUE\n",
      "11     11  44.0  29500.0     6.7      India           2009      False\n",
      "12     12  39.5  71500.0     0.0      India           1999      False\n",
      "13     13  25.0  71500.0     4.2  Australia           2019       TRUE\n",
      "14     14  66.0  71500.0     4.0  Australia           2020       TRUE\n",
      "15     15  44.0  94500.0     3.0  Australia           1999      False\n",
      "16     16  19.0  29500.0     4.5      India           1984      False\n",
      "17     17  39.5  71500.0     5.3   New York           1943       TRUE\n",
      "18     18  35.0  71500.0     6.7   New York           1954       TRUE\n",
      "19     19  32.0  71500.0     3.3   New York           1955       TRUE\n",
      "20     20  39.5  71500.0     5.7   New York           1944       TRUE\n",
      "21     21  35.0  71500.0     5.0   New York           1946      False\n",
      "22     22  19.0  60500.0     7.8   New York           1988       TRUE\n",
      "23     23  39.5  71500.0     2.4   New York           1999       TRUE\n",
      "24     24  13.0  71500.0     4.2   New York           1987      False\n",
      "25     25  55.0  71500.0     0.0  Australia           1980       TRUE\n",
      "26     26  39.5  60500.0     4.2      India           1934       TRUE\n",
      "27     27  52.0  71500.0     5.4      India           1935      False\n",
      "28     28  39.5  63500.0     3.4  Australia           1932      False\n"
     ]
    }
   ],
   "source": [
    "print(Dataset)"
   ]
  },
  {
   "cell_type": "markdown",
   "metadata": {},
   "source": [
    "Now, If we look at the location column we can see inconsistency with location name like there are some spaces between Name and the abbreviation, some comma between name and abbreviations. This create problem when doing the analysis so it's better to remove the white spaces, comma's , abbreviations so that all the values becomes consistent. "
   ]
  },
  {
   "cell_type": "code",
   "execution_count": 9,
   "metadata": {},
   "outputs": [],
   "source": [
    "Dataset['Location'] = Dataset['Location'].str.replace(',', '').str.strip()\n",
    "abbreviations_to_remove = ['In', 'Ny', 'Aus']\n",
    "for abbreviation in abbreviations_to_remove:\n",
    "     Dataset['Location'] = Dataset['Location'].apply(lambda x: x[:-len(abbreviation)] if x.endswith(abbreviation) else x).str.strip()"
   ]
  },
  {
   "cell_type": "markdown",
   "metadata": {},
   "source": [
    "Rating column consists of rating of the company out of 10 but if we look at the entries there are some entries with the values '-1' which does not any sense because there are no rating below 0 so we can assume that '-1' depicts that the ratings for these companies are not available. Droping these entries will affect the analysis because of the size of dataset. We can replace these values with the mean or median of the column."
   ]
  },
  {
   "cell_type": "code",
   "execution_count": 10,
   "metadata": {},
   "outputs": [],
   "source": [
    "median_rating = Dataset['Rating'].median()\n",
    "Dataset['Rating'].replace(-1,median_rating,inplace=True)\n",
    "Dataset['Rating'].fillna(median_rating,inplace=True)"
   ]
  },
  {
   "cell_type": "markdown",
   "metadata": {},
   "source": [
    "Established year column have some entries with values '-1' as well but we can not replace with mean or median because the values are years format so we can assume that the establishment year of these companies are not available so '-1' are used as placeholders. We can replace these values with 'Not available'."
   ]
  },
  {
   "cell_type": "code",
   "execution_count": 11,
   "metadata": {},
   "outputs": [],
   "source": [
    "Dataset['Established'].replace(-1,'Not available',inplace=True)"
   ]
  },
  {
   "cell_type": "markdown",
   "metadata": {},
   "source": [
    "Easy Apply column is a boolean type so all the values are in True and False so we can assume that the entries with the values '-1' are False. We can simply replace the '-1' values with False."
   ]
  },
  {
   "cell_type": "code",
   "execution_count": 12,
   "metadata": {},
   "outputs": [],
   "source": [
    "Dataset['Easy Apply'] = Dataset['Easy Apply'].replace([-1, '-1', 'Not Available', 'Not Applicable', 'False'], False, regex=True)"
   ]
  },
  {
   "cell_type": "markdown",
   "metadata": {},
   "source": [
    "# Handling Outliers\n",
    "Now, We have to check for the outliers in columns like Age, Rating, Salary because extreme low or high values might affect our analysis. So we have to make sure that all the values are lies with specific range."
   ]
  },
  {
   "cell_type": "code",
   "execution_count": 13,
   "metadata": {},
   "outputs": [
    {
     "data": {
      "text/plain": [
       "<matplotlib.axes._subplots.AxesSubplot at 0x250afd6f340>"
      ]
     },
     "execution_count": 13,
     "metadata": {},
     "output_type": "execute_result"
    },
    {
     "data": {
      "image/png": "[encoded data removed]",
      "text/plain": [
       "<Figure size 432x288 with 1 Axes>"
      ]
     },
     "metadata": {
      "needs_background": "light"
     },
     "output_type": "display_data"
    }
   ],
   "source": [
    "import seaborn as sns\n",
    "sns.boxplot(x=Dataset['Age'])"
   ]
  },
  {
   "cell_type": "markdown",
   "metadata": {},
   "source": [
    "We can find the outliers in 'Salary' column by calcualting the z-score. If the values corresponds false that means it is not a outlier but if it is true then it is a outlier."
   ]
  },
  {
   "cell_type": "code",
   "execution_count": 14,
   "metadata": {},
   "outputs": [
    {
     "name": "stdout",
     "output_type": "stream",
     "text": [
      "0     False\n",
      "1     False\n",
      "2     False\n",
      "3     False\n",
      "4     False\n",
      "5     False\n",
      "6     False\n",
      "7     False\n",
      "8     False\n",
      "9     False\n",
      "10    False\n",
      "11    False\n",
      "12    False\n",
      "13    False\n",
      "14    False\n",
      "15    False\n",
      "16    False\n",
      "17    False\n",
      "18    False\n",
      "19    False\n",
      "20    False\n",
      "21    False\n",
      "22    False\n",
      "23    False\n",
      "24    False\n",
      "25    False\n",
      "26    False\n",
      "27    False\n",
      "28    False\n",
      "Name: Salary, dtype: bool\n"
     ]
    }
   ],
   "source": [
    "from scipy.stats import zscore\n",
    "z_scores = zscore(Dataset['Salary'])\n",
    "outliers = (z_scores > 3) | (z_scores < -3)\n",
    "print(outliers)"
   ]
  },
  {
   "cell_type": "code",
   "execution_count": null,
   "metadata": {},
   "outputs": [],
   "source": []
  }
 ],
 "metadata": {
  "kernelspec": {
   "display_name": "Python 3",
   "language": "python",
   "name": "python3"
  },
  "language_info": {
   "codemirror_mode": {
    "name": "ipython",
    "version": 3
   },
   "file_extension": ".py",
   "mimetype": "text/x-python",
   "name": "python",
   "nbconvert_exporter": "python",
   "pygments_lexer": "ipython3",
   "version": "3.8.3"
  }
 },
 "nbformat": 4,
 "nbformat_minor": 4
}
